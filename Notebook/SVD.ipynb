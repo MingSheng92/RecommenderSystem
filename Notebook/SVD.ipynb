{
 "cells": [
  {
   "cell_type": "code",
   "execution_count": 3,
   "metadata": {},
   "outputs": [],
   "source": [
    "import sys\n",
    "import time\n",
    "import numpy as np\n",
    "import pandas as pd\n",
    "import matplotlib.pyplot as plt\n",
    "import gzip"
   ]
  },
  {
   "cell_type": "code",
   "execution_count": 4,
   "metadata": {},
   "outputs": [],
   "source": [
    "def parse(path):\n",
    "  g = gzip.open(path, 'rb')\n",
    "  for l in g:\n",
    "    yield eval(l)\n",
    "\n",
    "def getDF(path):\n",
    "  i = 0\n",
    "  df = {}\n",
    "  for d in parse(path):\n",
    "    df[i] = d\n",
    "    i += 1\n",
    "  return pd.DataFrame.from_dict(df, orient='index')"
   ]
  },
  {
   "cell_type": "code",
   "execution_count": 5,
   "metadata": {},
   "outputs": [],
   "source": [
    "review_data = getDF('data/reviews_Video_Games.json.gz')\n",
    "\n",
    "# cast as 32 float to save space\n",
    "review_data['overall'] = review_data['overall'].astype('float32')"
   ]
  },
  {
   "cell_type": "code",
   "execution_count": 8,
   "metadata": {},
   "outputs": [
    {
     "data": {
      "text/html": [
       "<div>\n",
       "<style scoped>\n",
       "    .dataframe tbody tr th:only-of-type {\n",
       "        vertical-align: middle;\n",
       "    }\n",
       "\n",
       "    .dataframe tbody tr th {\n",
       "        vertical-align: top;\n",
       "    }\n",
       "\n",
       "    .dataframe thead th {\n",
       "        text-align: right;\n",
       "    }\n",
       "</style>\n",
       "<table border=\"1\" class=\"dataframe\">\n",
       "  <thead>\n",
       "    <tr style=\"text-align: right;\">\n",
       "      <th></th>\n",
       "      <th>reviewerID</th>\n",
       "      <th>asin</th>\n",
       "      <th>overall</th>\n",
       "    </tr>\n",
       "  </thead>\n",
       "  <tbody>\n",
       "    <tr>\n",
       "      <th>0</th>\n",
       "      <td>AB9S9279OZ3QO</td>\n",
       "      <td>0078764343</td>\n",
       "      <td>5.0</td>\n",
       "    </tr>\n",
       "    <tr>\n",
       "      <th>1</th>\n",
       "      <td>A24SSUT5CSW8BH</td>\n",
       "      <td>0078764343</td>\n",
       "      <td>5.0</td>\n",
       "    </tr>\n",
       "    <tr>\n",
       "      <th>2</th>\n",
       "      <td>AK3V0HEBJMQ7J</td>\n",
       "      <td>0078764343</td>\n",
       "      <td>4.0</td>\n",
       "    </tr>\n",
       "    <tr>\n",
       "      <th>3</th>\n",
       "      <td>A10BECPH7W8HM7</td>\n",
       "      <td>043933702X</td>\n",
       "      <td>5.0</td>\n",
       "    </tr>\n",
       "    <tr>\n",
       "      <th>4</th>\n",
       "      <td>A2PRV9OULX1TWP</td>\n",
       "      <td>043933702X</td>\n",
       "      <td>5.0</td>\n",
       "    </tr>\n",
       "  </tbody>\n",
       "</table>\n",
       "</div>"
      ],
      "text/plain": [
       "       reviewerID        asin  overall\n",
       "0   AB9S9279OZ3QO  0078764343      5.0\n",
       "1  A24SSUT5CSW8BH  0078764343      5.0\n",
       "2   AK3V0HEBJMQ7J  0078764343      4.0\n",
       "3  A10BECPH7W8HM7  043933702X      5.0\n",
       "4  A2PRV9OULX1TWP  043933702X      5.0"
      ]
     },
     "execution_count": 8,
     "metadata": {},
     "output_type": "execute_result"
    }
   ],
   "source": [
    "# remove all unnessacary columns since this is CF method \n",
    "del review_data['reviewerName']\n",
    "del review_data['helpful']\n",
    "del review_data['reviewText']\n",
    "del review_data['summary']\n",
    "del review_data['unixReviewTime']\n",
    "del review_data['reviewTime']\n",
    "\n",
    "review_data.head()"
   ]
  },
  {
   "cell_type": "code",
   "execution_count": 9,
   "metadata": {},
   "outputs": [
    {
     "name": "stdout",
     "output_type": "stream",
     "text": [
      "<class 'pandas.core.frame.DataFrame'>\n",
      "Int64Index: 1324753 entries, 0 to 1324752\n",
      "Data columns (total 3 columns):\n",
      "reviewerID    1324753 non-null object\n",
      "asin          1324753 non-null object\n",
      "overall       1324753 non-null float32\n",
      "dtypes: float32(1), object(2)\n",
      "memory usage: 35.4+ MB\n"
     ]
    }
   ],
   "source": [
    "review_data.info()"
   ]
  },
  {
   "cell_type": "code",
   "execution_count": 10,
   "metadata": {},
   "outputs": [
    {
     "data": {
      "text/html": [
       "<div>\n",
       "<style scoped>\n",
       "    .dataframe tbody tr th:only-of-type {\n",
       "        vertical-align: middle;\n",
       "    }\n",
       "\n",
       "    .dataframe tbody tr th {\n",
       "        vertical-align: top;\n",
       "    }\n",
       "\n",
       "    .dataframe thead th {\n",
       "        text-align: right;\n",
       "    }\n",
       "</style>\n",
       "<table border=\"1\" class=\"dataframe\">\n",
       "  <thead>\n",
       "    <tr style=\"text-align: right;\">\n",
       "      <th></th>\n",
       "      <th>overall</th>\n",
       "    </tr>\n",
       "  </thead>\n",
       "  <tbody>\n",
       "    <tr>\n",
       "      <th>count</th>\n",
       "      <td>1.324753e+06</td>\n",
       "    </tr>\n",
       "    <tr>\n",
       "      <th>mean</th>\n",
       "      <td>3.978754e+00</td>\n",
       "    </tr>\n",
       "    <tr>\n",
       "      <th>std</th>\n",
       "      <td>1.374263e+00</td>\n",
       "    </tr>\n",
       "    <tr>\n",
       "      <th>min</th>\n",
       "      <td>1.000000e+00</td>\n",
       "    </tr>\n",
       "    <tr>\n",
       "      <th>25%</th>\n",
       "      <td>3.000000e+00</td>\n",
       "    </tr>\n",
       "    <tr>\n",
       "      <th>50%</th>\n",
       "      <td>5.000000e+00</td>\n",
       "    </tr>\n",
       "    <tr>\n",
       "      <th>75%</th>\n",
       "      <td>5.000000e+00</td>\n",
       "    </tr>\n",
       "    <tr>\n",
       "      <th>max</th>\n",
       "      <td>5.000000e+00</td>\n",
       "    </tr>\n",
       "  </tbody>\n",
       "</table>\n",
       "</div>"
      ],
      "text/plain": [
       "            overall\n",
       "count  1.324753e+06\n",
       "mean   3.978754e+00\n",
       "std    1.374263e+00\n",
       "min    1.000000e+00\n",
       "25%    3.000000e+00\n",
       "50%    5.000000e+00\n",
       "75%    5.000000e+00\n",
       "max    5.000000e+00"
      ]
     },
     "execution_count": 10,
     "metadata": {},
     "output_type": "execute_result"
    }
   ],
   "source": [
    "review_data.describe()"
   ]
  },
  {
   "cell_type": "code",
   "execution_count": 17,
   "metadata": {},
   "outputs": [
    {
     "data": {
      "text/plain": [
       "(826767, 50210, 41511971070)"
      ]
     },
     "execution_count": 17,
     "metadata": {},
     "output_type": "execute_result"
    }
   ],
   "source": [
    "max_user  = len(review_data.reviewerID.unique().tolist())\n",
    "#len(gapminder['country'].unique().tolist())\n",
    "max_item = len(review_data.asin.unique().tolist())\n",
    "max_user, max_item, max_user * max_item"
   ]
  },
  {
   "cell_type": "code",
   "execution_count": 21,
   "metadata": {},
   "outputs": [
    {
     "name": "stdout",
     "output_type": "stream",
     "text": [
      "0.0032%\n"
     ]
    }
   ],
   "source": [
    "print(\"%.4f%%\" % (100 * review_data.shape[0] / (max_user * max_item)))"
   ]
  },
  {
   "cell_type": "code",
   "execution_count": 28,
   "metadata": {},
   "outputs": [],
   "source": [
    "# reset reviewer ID to int col so that conversion to matrix can be done\n",
    "review_data['ID'] = review_data.reviewerID.astype('category').cat.rename_categories(range(1, review_data.reviewerID.nunique()+1))"
   ]
  },
  {
   "cell_type": "code",
   "execution_count": 30,
   "metadata": {},
   "outputs": [
    {
     "data": {
      "text/html": [
       "<div>\n",
       "<style scoped>\n",
       "    .dataframe tbody tr th:only-of-type {\n",
       "        vertical-align: middle;\n",
       "    }\n",
       "\n",
       "    .dataframe tbody tr th {\n",
       "        vertical-align: top;\n",
       "    }\n",
       "\n",
       "    .dataframe thead th {\n",
       "        text-align: right;\n",
       "    }\n",
       "</style>\n",
       "<table border=\"1\" class=\"dataframe\">\n",
       "  <thead>\n",
       "    <tr style=\"text-align: right;\">\n",
       "      <th></th>\n",
       "      <th>reviewerID</th>\n",
       "      <th>asin</th>\n",
       "      <th>overall</th>\n",
       "      <th>ID</th>\n",
       "      <th>itemID</th>\n",
       "    </tr>\n",
       "  </thead>\n",
       "  <tbody>\n",
       "    <tr>\n",
       "      <th>0</th>\n",
       "      <td>AB9S9279OZ3QO</td>\n",
       "      <td>0078764343</td>\n",
       "      <td>5.0</td>\n",
       "      <td>676630</td>\n",
       "      <td>1</td>\n",
       "    </tr>\n",
       "    <tr>\n",
       "      <th>1</th>\n",
       "      <td>A24SSUT5CSW8BH</td>\n",
       "      <td>0078764343</td>\n",
       "      <td>5.0</td>\n",
       "      <td>248237</td>\n",
       "      <td>1</td>\n",
       "    </tr>\n",
       "    <tr>\n",
       "      <th>2</th>\n",
       "      <td>AK3V0HEBJMQ7J</td>\n",
       "      <td>0078764343</td>\n",
       "      <td>4.0</td>\n",
       "      <td>730297</td>\n",
       "      <td>1</td>\n",
       "    </tr>\n",
       "    <tr>\n",
       "      <th>3</th>\n",
       "      <td>A10BECPH7W8HM7</td>\n",
       "      <td>043933702X</td>\n",
       "      <td>5.0</td>\n",
       "      <td>3165</td>\n",
       "      <td>2</td>\n",
       "    </tr>\n",
       "    <tr>\n",
       "      <th>4</th>\n",
       "      <td>A2PRV9OULX1TWP</td>\n",
       "      <td>043933702X</td>\n",
       "      <td>5.0</td>\n",
       "      <td>375823</td>\n",
       "      <td>2</td>\n",
       "    </tr>\n",
       "  </tbody>\n",
       "</table>\n",
       "</div>"
      ],
      "text/plain": [
       "       reviewerID        asin  overall      ID itemID\n",
       "0   AB9S9279OZ3QO  0078764343      5.0  676630      1\n",
       "1  A24SSUT5CSW8BH  0078764343      5.0  248237      1\n",
       "2   AK3V0HEBJMQ7J  0078764343      4.0  730297      1\n",
       "3  A10BECPH7W8HM7  043933702X      5.0    3165      2\n",
       "4  A2PRV9OULX1TWP  043933702X      5.0  375823      2"
      ]
     },
     "execution_count": 30,
     "metadata": {},
     "output_type": "execute_result"
    }
   ],
   "source": [
    "review_data['itemID'] = review_data.asin.astype('category').cat.rename_categories(range(1, review_data.asin.nunique()+1))"
   ]
  },
  {
   "cell_type": "code",
   "execution_count": 31,
   "metadata": {},
   "outputs": [
    {
     "data": {
      "text/html": [
       "<div>\n",
       "<style scoped>\n",
       "    .dataframe tbody tr th:only-of-type {\n",
       "        vertical-align: middle;\n",
       "    }\n",
       "\n",
       "    .dataframe tbody tr th {\n",
       "        vertical-align: top;\n",
       "    }\n",
       "\n",
       "    .dataframe thead th {\n",
       "        text-align: right;\n",
       "    }\n",
       "</style>\n",
       "<table border=\"1\" class=\"dataframe\">\n",
       "  <thead>\n",
       "    <tr style=\"text-align: right;\">\n",
       "      <th></th>\n",
       "      <th>overall</th>\n",
       "      <th>ID</th>\n",
       "      <th>itemID</th>\n",
       "    </tr>\n",
       "  </thead>\n",
       "  <tbody>\n",
       "    <tr>\n",
       "      <th>0</th>\n",
       "      <td>5.0</td>\n",
       "      <td>676630</td>\n",
       "      <td>1</td>\n",
       "    </tr>\n",
       "    <tr>\n",
       "      <th>1</th>\n",
       "      <td>5.0</td>\n",
       "      <td>248237</td>\n",
       "      <td>1</td>\n",
       "    </tr>\n",
       "    <tr>\n",
       "      <th>2</th>\n",
       "      <td>4.0</td>\n",
       "      <td>730297</td>\n",
       "      <td>1</td>\n",
       "    </tr>\n",
       "    <tr>\n",
       "      <th>3</th>\n",
       "      <td>5.0</td>\n",
       "      <td>3165</td>\n",
       "      <td>2</td>\n",
       "    </tr>\n",
       "    <tr>\n",
       "      <th>4</th>\n",
       "      <td>5.0</td>\n",
       "      <td>375823</td>\n",
       "      <td>2</td>\n",
       "    </tr>\n",
       "  </tbody>\n",
       "</table>\n",
       "</div>"
      ],
      "text/plain": [
       "   overall      ID itemID\n",
       "0      5.0  676630      1\n",
       "1      5.0  248237      1\n",
       "2      4.0  730297      1\n",
       "3      5.0    3165      2\n",
       "4      5.0  375823      2"
      ]
     },
     "execution_count": 31,
     "metadata": {},
     "output_type": "execute_result"
    }
   ],
   "source": [
    "del review_data['reviewerID']\n",
    "del review_data['asin']\n",
    "\n",
    "review_data.head()"
   ]
  },
  {
   "cell_type": "code",
   "execution_count": 40,
   "metadata": {},
   "outputs": [
    {
     "data": {
      "text/plain": [
       "(826768, 50211, 41512848048)"
      ]
     },
     "execution_count": 40,
     "metadata": {},
     "output_type": "execute_result"
    }
   ],
   "source": [
    "review_data['ID'] = review_data['ID'].astype('int64')\n",
    "review_data['itemID'] = review_data['itemID'].astype('int64')\n",
    "\n",
    "review_data.dtypes\n",
    "max_user  = int(review_data[\"ID\"].max() + 1)\n",
    "max_item = int(review_data[\"itemID\"].max() + 1)\n",
    "max_user, max_item, max_user * max_item"
   ]
  },
  {
   "cell_type": "code",
   "execution_count": 41,
   "metadata": {},
   "outputs": [],
   "source": [
    "import sklearn.model_selection\n",
    "\n",
    "x_train, x_test = sklearn.model_selection.train_test_split(review_data, test_size=0.25, random_state=12345678)"
   ]
  },
  {
   "cell_type": "code",
   "execution_count": 42,
   "metadata": {},
   "outputs": [],
   "source": [
    "import scipy.sparse\n",
    "\n",
    "def df2mat(df):\n",
    "    m = scipy.sparse.coo_matrix(\n",
    "        (df[\"overall\"], (df[\"ID\"], df[\"itemID\"])),\n",
    "        shape=(max_user, max_item),\n",
    "        dtype=np.float32).tocsc()\n",
    "    return m, m > 0\n",
    "\n",
    "x_mat_train, x_mask_train = df2mat(x_train)\n",
    "x_mat_test,  x_mask_test  = df2mat(x_test)"
   ]
  },
  {
   "cell_type": "code",
   "execution_count": 43,
   "metadata": {},
   "outputs": [
    {
     "data": {
      "text/plain": [
       "<826768x50211 sparse matrix of type '<class 'numpy.float32'>'\n",
       "\twith 993564 stored elements in Compressed Sparse Column format>"
      ]
     },
     "execution_count": 43,
     "metadata": {},
     "output_type": "execute_result"
    }
   ],
   "source": [
    "x_mat_train"
   ]
  },
  {
   "cell_type": "code",
   "execution_count": 45,
   "metadata": {},
   "outputs": [
    {
     "data": {
      "text/plain": [
       "[4.0, 4.0, 2.0, 4.0, 4.0, 3.0, 1.0, 2.0, 4.0, 5.0]"
      ]
     },
     "execution_count": 45,
     "metadata": {},
     "output_type": "execute_result"
    }
   ],
   "source": [
    "user_ids = list(x_train.iloc[:10].ID)\n",
    "item_ids = list(x_train.iloc[:10].itemID)\n",
    "[x_mat_train[u,i] for u,i in zip(user_ids, item_ids)]"
   ]
  },
  {
   "cell_type": "code",
   "execution_count": 47,
   "metadata": {},
   "outputs": [],
   "source": [
    "class SVDModel(object):\n",
    "    def __init__(self, num_items, num_users, mean,\n",
    "                 num_factors = 100, init_variance = 0.1):\n",
    "        self.mu = mean\n",
    "        self.num_items = num_items\n",
    "        self.num_users = num_users\n",
    "        self.num_factors = num_factors\n",
    "        #dtype = np.float32\n",
    "        # Deviations, per-item:\n",
    "        self.b_i = np.zeros((num_items,), dtype=np.float32)\n",
    "        # Deviations; per-user:\n",
    "        self.b_u = np.zeros((num_users,), dtype=np.float32)\n",
    "        # Factor matrices:\n",
    "        self.q = (np.random.randn(num_factors, num_items) * init_variance)#.astype(dtype=np.float32)\n",
    "        self.p = (np.random.randn(num_factors, num_users) * init_variance)#.astype(dtype=np.float32)\n",
    "        # N.B. row I of q is item I's \"concepts\", so to speak;\n",
    "        # column U of p is how much user U belongs to each \"concept\"\n",
    "    \n",
    "    def predict(self, items, users):\n",
    "        \"\"\"Returns rating prediction for specific items and users.\n",
    "\n",
    "        Parameters:\n",
    "        items -- 1D array of item IDs\n",
    "        users -- 1D array of user IDs (same length as :items:)\n",
    "        \n",
    "        Returns:\n",
    "        ratings -- 1D array of predicted ratings (same length as :items:)\n",
    "        \"\"\"\n",
    "        # Note that we don't multiply p & q like matrices here,\n",
    "        # but rather, we just do row-by-row dot products.\n",
    "        # Matrix multiply would give us every combination of item and user,\n",
    "        # which isn't what we want.\n",
    "        return self.mu + \\\n",
    "               self.b_i[items] + \\\n",
    "               self.b_u[users] + \\\n",
    "               (self.q[:, items] * self.p[:, users]).sum(axis=0)\n",
    "    \n",
    "    def error(self, items, users, ratings, batch_size=256):\n",
    "        \"\"\"Predicts over the given items and users, compares with the correct\n",
    "        ratings, and returns RMSE and MAE.\n",
    "        \n",
    "        Parameters:\n",
    "        items -- 1D array of item IDs\n",
    "        users -- 1D array of user IDs (same length as :items:)\n",
    "        ratings -- 1D array of 'correct' item ratings (same length as :items:)\n",
    "        \n",
    "        Returns:\n",
    "        rmse, mae -- Scalars for RMS error and mean absolute error\n",
    "        \"\"\"\n",
    "        sqerr = 0\n",
    "        abserr = 0\n",
    "        for i0 in range(0, len(items), batch_size):\n",
    "            i1 = min(i0 + batch_size, len(items))\n",
    "            p = self.predict(items[i0:i1], users[i0:i1])\n",
    "            d = p - ratings[i0:i1]\n",
    "            sqerr += np.square(d).sum()\n",
    "            abserr += np.abs(d).sum()\n",
    "        rmse = np.sqrt(sqerr / items.size)\n",
    "        mae = abserr / items.size\n",
    "        return rmse, mae\n",
    "    \n",
    "    def update_by_gradient(self, i, u, r_ui, lambda_, gamma):\n",
    "        \"\"\"Perform a single gradient-descent update.\"\"\"\n",
    "        e_ui = r_ui - self.predict(i, u)\n",
    "        dbi = gamma * (e_ui - lambda_ * self.b_u[u])\n",
    "        dbu = gamma * (e_ui - lambda_ * self.b_i[i])\n",
    "        dpu = gamma * (e_ui * self.q[:,i] - lambda_ * self.p[:, u])\n",
    "        dqi = gamma * (e_ui * self.p[:,u] - lambda_ * self.q[:, i])\n",
    "        self.b_i[i] += dbi\n",
    "        self.b_u[u] += dbu\n",
    "        self.p[:,u] += dpu\n",
    "        self.q[:,i] += dqi\n",
    "        \n",
    "    def train(self, items, users, ratings, gamma = 0.005, lambda_ = 0.02,\n",
    "              num_epochs=20, epoch_callback=None):\n",
    "        \"\"\"Train with stochastic gradient-descent\"\"\"\n",
    "        for epoch in range(num_epochs):\n",
    "            t0 = time.time()\n",
    "            total = 0\n",
    "            for idx in np.random.permutation(len(items)):\n",
    "                d = 2000000\n",
    "                if (idx > 0 and idx % d == 0):\n",
    "                    total += d\n",
    "                    dt = time.time() - t0\n",
    "                    rate = total / dt\n",
    "                    sys.stdout.write(\"{:.0f}/s \".format(rate))\n",
    "                i, u, r_ui = items[idx], users[idx], ratings[idx]\n",
    "                self.update_by_gradient(i, u, r_ui, lambda_, gamma)\n",
    "            if epoch_callback: epoch_callback(self, epoch, num_epochs)"
   ]
  },
  {
   "cell_type": "code",
   "execution_count": 51,
   "metadata": {},
   "outputs": [
    {
     "name": "stdout",
     "output_type": "stream",
     "text": [
      "<class 'pandas.core.frame.DataFrame'>\n",
      "Int64Index: 1324753 entries, 0 to 1324752\n",
      "Data columns (total 3 columns):\n",
      "overall    1324753 non-null float32\n",
      "ID         1324753 non-null int64\n",
      "itemID     1324753 non-null int64\n",
      "dtypes: float32(1), int64(2)\n",
      "memory usage: 35.4 MB\n"
     ]
    }
   ],
   "source": [
    "review_data.info()"
   ]
  },
  {
   "cell_type": "code",
   "execution_count": 46,
   "metadata": {},
   "outputs": [],
   "source": [
    "# Hyperparameters\n",
    "gamma = 0.002\n",
    "lambda_ = 0.02\n",
    "num_epochs = 20\n",
    "num_factors = 40"
   ]
  },
  {
   "cell_type": "code",
   "execution_count": 48,
   "metadata": {},
   "outputs": [],
   "source": [
    "item_train = x_train[\"itemID\"].values\n",
    "users_train = x_train[\"ID\"].values\n",
    "ratings_train = x_train[\"overall\"].values\n",
    "item_test = x_test[\"itemID\"].values\n",
    "users_test = x_test[\"ID\"].values\n",
    "ratings_test = x_test[\"overall\"].values\n",
    "\n",
    "def at_epoch(self, epoch, num_epochs):\n",
    "    train_rmse, train_mae = self.error(item_train, users_train, ratings_train)\n",
    "    test_rmse, test_mae = self.error(item_test, users_test, ratings_test)\n",
    "    np.savez_compressed(\"svd{}\".format(num_factors),\n",
    "                        (self.b_i, self.b_u, self.p, self.q))\n",
    "    print()\n",
    "    print(\"Epoch {:02d}/{}; Training: MAE={:.3f} RMSE={:.3f}, Testing: MAE={:.3f} RMSE={:.3f}\".format(epoch + 1, num_epochs, train_mae, train_rmse, test_mae, test_rmse))"
   ]
  },
  {
   "cell_type": "code",
   "execution_count": 50,
   "metadata": {},
   "outputs": [
    {
     "name": "stdout",
     "output_type": "stream",
     "text": [
      "\n",
      "Epoch 01/20; Training: MAE=1.015 RMSE=1.285, Testing: MAE=1.027 RMSE=1.300\n",
      "\n",
      "Epoch 02/20; Training: MAE=0.991 RMSE=1.256, Testing: MAE=1.014 RMSE=1.285\n",
      "\n",
      "Epoch 03/20; Training: MAE=0.973 RMSE=1.234, Testing: MAE=1.006 RMSE=1.277\n",
      "\n",
      "Epoch 04/20; Training: MAE=0.957 RMSE=1.216, Testing: MAE=1.000 RMSE=1.271\n",
      "\n",
      "Epoch 05/20; Training: MAE=0.943 RMSE=1.200, Testing: MAE=0.996 RMSE=1.267\n",
      "\n",
      "Epoch 06/20; Training: MAE=0.930 RMSE=1.184, Testing: MAE=0.993 RMSE=1.264\n",
      "\n",
      "Epoch 07/20; Training: MAE=0.918 RMSE=1.169, Testing: MAE=0.991 RMSE=1.262\n",
      "\n",
      "Epoch 08/20; Training: MAE=0.906 RMSE=1.154, Testing: MAE=0.989 RMSE=1.260\n",
      "\n",
      "Epoch 09/20; Training: MAE=0.893 RMSE=1.138, Testing: MAE=0.987 RMSE=1.258\n",
      "\n",
      "Epoch 10/20; Training: MAE=0.880 RMSE=1.122, Testing: MAE=0.985 RMSE=1.257\n",
      "\n",
      "Epoch 11/20; Training: MAE=0.866 RMSE=1.104, Testing: MAE=0.984 RMSE=1.256\n",
      "\n",
      "Epoch 12/20; Training: MAE=0.853 RMSE=1.087, Testing: MAE=0.984 RMSE=1.256\n",
      "\n",
      "Epoch 13/20; Training: MAE=0.837 RMSE=1.068, Testing: MAE=0.983 RMSE=1.256\n",
      "\n",
      "Epoch 14/20; Training: MAE=0.821 RMSE=1.048, Testing: MAE=0.982 RMSE=1.255\n",
      "\n",
      "Epoch 15/20; Training: MAE=0.804 RMSE=1.028, Testing: MAE=0.981 RMSE=1.255\n",
      "\n",
      "Epoch 16/20; Training: MAE=0.788 RMSE=1.007, Testing: MAE=0.981 RMSE=1.256\n",
      "\n",
      "Epoch 17/20; Training: MAE=0.770 RMSE=0.987, Testing: MAE=0.981 RMSE=1.256\n",
      "\n",
      "Epoch 18/20; Training: MAE=0.752 RMSE=0.966, Testing: MAE=0.980 RMSE=1.256\n",
      "\n",
      "Epoch 19/20; Training: MAE=0.734 RMSE=0.945, Testing: MAE=0.980 RMSE=1.256\n",
      "\n",
      "Epoch 20/20; Training: MAE=0.716 RMSE=0.924, Testing: MAE=0.980 RMSE=1.257\n"
     ]
    }
   ],
   "source": [
    "svd = SVDModel(max_item, max_user, review_data[\"overall\"].mean(), num_factors=num_factors)\n",
    "svd.train(item_train, users_train, ratings_train, epoch_callback=at_epoch)"
   ]
  }
 ],
 "metadata": {
  "kernelspec": {
   "display_name": "Python 3",
   "language": "python",
   "name": "python3"
  },
  "language_info": {
   "codemirror_mode": {
    "name": "ipython",
    "version": 3
   },
   "file_extension": ".py",
   "mimetype": "text/x-python",
   "name": "python",
   "nbconvert_exporter": "python",
   "pygments_lexer": "ipython3",
   "version": "3.7.1"
  }
 },
 "nbformat": 4,
 "nbformat_minor": 2
}
